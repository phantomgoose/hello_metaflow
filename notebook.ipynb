{
 "cells": [
  {
   "cell_type": "code",
   "execution_count": 28,
   "id": "initial_id",
   "metadata": {
    "collapsed": true,
    "ExecuteTime": {
     "end_time": "2023-08-15T00:13:53.602761Z",
     "start_time": "2023-08-15T00:13:53.542580Z"
    }
   },
   "outputs": [
    {
     "name": "stdout",
     "output_type": "stream",
     "text": [
      "Current metadata provider: service@https://j45zn5zs87.execute-api.us-west-2.amazonaws.com/api/\n"
     ]
    }
   ],
   "source": [
    "from metaflow import Flow, get_metadata\n",
    "\n",
    "FLOW_NAME = \"LearnModSpec\"\n",
    "\n",
    "print(\"Current metadata provider: %s\" % get_metadata())"
   ]
  },
  {
   "cell_type": "code",
   "execution_count": 29,
   "outputs": [
    {
     "name": "stdout",
     "output_type": "stream",
     "text": [
      "LearnModSpec:\n",
      "None Run id: 59, Successful: False\n",
      "Tags: ['metaflow_version:2.9.11', 'python_version:3.11.4', 'runtime:dev', 'user:phantomgoose']\n",
      "None Run id: 58, Successful: False\n",
      "Tags: ['metaflow_version:2.9.11', 'python_version:3.11.4', 'runtime:dev', 'user:phantomgoose']\n",
      "\n",
      "None Run id: 57, Successful: False\n",
      "Tags: ['metaflow_version:2.9.11', 'python_version:3.11.4', 'runtime:dev', 'user:phantomgoose']\n",
      "None Run id: 56, Successful: False\n",
      "Tags: ['metaflow_version:2.9.11', 'python_version:3.11.4', 'runtime:dev', 'user:phantomgoose']\n",
      "\n",
      "None Run id: 55, Successful: False\n",
      "Tags: ['metaflow_version:2.9.11', 'python_version:3.11.4', 'runtime:dev', 'user:phantomgoose']\n",
      "2023-08-14 16:31:21.067000 Run id: 54, Successful: True\n",
      "Tags: ['metaflow_version:2.9.11', 'python_version:3.11.4', 'runtime:dev', 'user:phantomgoose']\n",
      "2023-08-13 16:32:52.799000 Run id: 53, Successful: True\n",
      "Tags: ['metaflow_version:2.9.11', 'python_version:3.11.4', 'runtime:dev', 'user:phantomgoose']\n",
      "\n",
      "None Run id: 52, Successful: False\n",
      "Tags: ['metaflow_version:2.9.11', 'python_version:3.11.4', 'runtime:dev', 'user:phantomgoose']\n"
     ]
    }
   ],
   "source": [
    "flow = Flow(FLOW_NAME)\n",
    "runs = list(flow.runs())\n",
    "print(\"%s:\" % FLOW_NAME)\n",
    "for run in runs:\n",
    "    print(\"{} Run id: {}, Successful: {}\".format(run.finished_at, run.id, run.successful))\n",
    "    print(\"Tags: {}\\n\".format(sorted(list(run.tags))))"
   ],
   "metadata": {
    "collapsed": false,
    "ExecuteTime": {
     "end_time": "2023-08-15T00:13:55.614144Z",
     "start_time": "2023-08-15T00:13:53.547184Z"
    }
   },
   "id": "afb940f1fe8d72c1"
  },
  {
   "cell_type": "code",
   "execution_count": 30,
   "outputs": [
    {
     "name": "stdout",
     "output_type": "stream",
     "text": [
      "Using run: Run('LearnModSpec/54')\n"
     ]
    }
   ],
   "source": [
    "latest_run = Flow(FLOW_NAME).latest_successful_run\n",
    "print(\"Using run: %s\" % str(latest_run))"
   ],
   "metadata": {
    "collapsed": false,
    "ExecuteTime": {
     "end_time": "2023-08-15T00:13:56.384958Z",
     "start_time": "2023-08-15T00:13:55.613978Z"
    }
   },
   "id": "4532e1b896b15966"
  },
  {
   "cell_type": "code",
   "execution_count": 31,
   "outputs": [
    {
     "name": "stderr",
     "output_type": "stream",
     "text": [
      "WARNING:absl:At this time, the v2.11+ optimizer `tf.keras.optimizers.Adam` runs slowly on M1/M2 Macs, please use the legacy Keras optimizer instead, located at `tf.keras.optimizers.legacy.Adam`.\n",
      "WARNING:absl:There is a known slowdown when using v2.11+ Keras optimizers on M1/M2 Macs. Falling back to the legacy Keras optimizer, i.e., `tf.keras.optimizers.legacy.Adam`.\n"
     ]
    },
    {
     "name": "stdout",
     "output_type": "stream",
     "text": [
      "WARNING:tensorflow:Error in loading the saved optimizer state. As a result, your model is starting with a freshly initialized optimizer.\n"
     ]
    },
    {
     "name": "stderr",
     "output_type": "stream",
     "text": [
      "WARNING:tensorflow:Error in loading the saved optimizer state. As a result, your model is starting with a freshly initialized optimizer.\n"
     ]
    },
    {
     "name": "stdout",
     "output_type": "stream",
     "text": [
      "1/1 [==============================] - 0s 27ms/step\n"
     ]
    },
    {
     "name": "stderr",
     "output_type": "stream",
     "text": [
      "2023-08-14 17:13:56.682493: I tensorflow/core/grappler/optimizers/custom_graph_optimizer_registry.cc:114] Plugin optimizer for device_type GPU is enabled.\n"
     ]
    },
    {
     "data": {
      "text/plain": "array([[-126.98448]], dtype=float32)"
     },
     "execution_count": 31,
     "metadata": {},
     "output_type": "execute_result"
    }
   ],
   "source": [
    "import tempfile\n",
    "from keras.models import load_model\n",
    "\n",
    "with tempfile.NamedTemporaryFile() as f:\n",
    "    f.write(latest_run.data.model)\n",
    "    f.flush()\n",
    "    model = load_model(f.name)\n",
    "\n",
    "model.predict([69])"
   ],
   "metadata": {
    "collapsed": false,
    "ExecuteTime": {
     "end_time": "2023-08-15T00:13:56.695918Z",
     "start_time": "2023-08-15T00:13:56.385203Z"
    }
   },
   "id": "278829cdf171210f"
  }
 ],
 "metadata": {
  "kernelspec": {
   "display_name": "Python 3",
   "language": "python",
   "name": "python3"
  },
  "language_info": {
   "codemirror_mode": {
    "name": "ipython",
    "version": 2
   },
   "file_extension": ".py",
   "mimetype": "text/x-python",
   "name": "python",
   "nbconvert_exporter": "python",
   "pygments_lexer": "ipython2",
   "version": "2.7.6"
  }
 },
 "nbformat": 4,
 "nbformat_minor": 5
}
